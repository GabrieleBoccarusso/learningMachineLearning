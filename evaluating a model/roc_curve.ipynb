{
 "cells": [
  {
   "cell_type": "code",
   "execution_count": 9,
   "id": "driving-creator",
   "metadata": {},
   "outputs": [],
   "source": [
    "import pandas as pd\n",
    "import numpy as np\n",
    "from sklearn.datasets import load_iris\n",
    "iris = load_iris()"
   ]
  },
  {
   "cell_type": "code",
   "execution_count": 10,
   "id": "involved-array",
   "metadata": {},
   "outputs": [
    {
     "data": {
      "text/html": [
       "<div>\n",
       "<style scoped>\n",
       "    .dataframe tbody tr th:only-of-type {\n",
       "        vertical-align: middle;\n",
       "    }\n",
       "\n",
       "    .dataframe tbody tr th {\n",
       "        vertical-align: top;\n",
       "    }\n",
       "\n",
       "    .dataframe thead th {\n",
       "        text-align: right;\n",
       "    }\n",
       "</style>\n",
       "<table border=\"1\" class=\"dataframe\">\n",
       "  <thead>\n",
       "    <tr style=\"text-align: right;\">\n",
       "      <th></th>\n",
       "      <th>sepal length</th>\n",
       "      <th>sepal width</th>\n",
       "      <th>petal length</th>\n",
       "      <th>petal width</th>\n",
       "      <th>target</th>\n",
       "    </tr>\n",
       "  </thead>\n",
       "  <tbody>\n",
       "    <tr>\n",
       "      <th>0</th>\n",
       "      <td>5.1</td>\n",
       "      <td>3.5</td>\n",
       "      <td>1.4</td>\n",
       "      <td>0.2</td>\n",
       "      <td>0</td>\n",
       "    </tr>\n",
       "    <tr>\n",
       "      <th>1</th>\n",
       "      <td>4.9</td>\n",
       "      <td>3.0</td>\n",
       "      <td>1.4</td>\n",
       "      <td>0.2</td>\n",
       "      <td>0</td>\n",
       "    </tr>\n",
       "    <tr>\n",
       "      <th>2</th>\n",
       "      <td>4.7</td>\n",
       "      <td>3.2</td>\n",
       "      <td>1.3</td>\n",
       "      <td>0.2</td>\n",
       "      <td>0</td>\n",
       "    </tr>\n",
       "    <tr>\n",
       "      <th>3</th>\n",
       "      <td>4.6</td>\n",
       "      <td>3.1</td>\n",
       "      <td>1.5</td>\n",
       "      <td>0.2</td>\n",
       "      <td>0</td>\n",
       "    </tr>\n",
       "    <tr>\n",
       "      <th>4</th>\n",
       "      <td>5.0</td>\n",
       "      <td>3.6</td>\n",
       "      <td>1.4</td>\n",
       "      <td>0.2</td>\n",
       "      <td>0</td>\n",
       "    </tr>\n",
       "  </tbody>\n",
       "</table>\n",
       "</div>"
      ],
      "text/plain": [
       "   sepal length  sepal width  petal length  petal width  target\n",
       "0           5.1          3.5           1.4          0.2       0\n",
       "1           4.9          3.0           1.4          0.2       0\n",
       "2           4.7          3.2           1.3          0.2       0\n",
       "3           4.6          3.1           1.5          0.2       0\n",
       "4           5.0          3.6           1.4          0.2       0"
      ]
     },
     "execution_count": 10,
     "metadata": {},
     "output_type": "execute_result"
    }
   ],
   "source": [
    "column_names = ['sepal length', 'sepal width', 'petal length', 'petal width']\n",
    "iris_df = pd.DataFrame(iris.data, columns = column_names)\n",
    "iris_df['target'] = iris['target']\n",
    "iris_df.head()"
   ]
  },
  {
   "cell_type": "code",
   "execution_count": 11,
   "id": "temporal-raising",
   "metadata": {},
   "outputs": [
    {
     "name": "stdout",
     "output_type": "stream",
     "text": [
      "the accuracy of our model cross-evaluted is: 95.33%\n"
     ]
    }
   ],
   "source": [
    "from sklearn.model_selection import cross_val_score, train_test_split\n",
    "from sklearn.ensemble import RandomForestClassifier\n",
    "\n",
    "np.random.seed(10)\n",
    "\n",
    "x = iris_df.drop('target', axis = 1)\n",
    "y = iris_df['target']\n",
    "\n",
    "x_train, x_test, y_train, y_test = train_test_split(x, y, test_size = 0.15)\n",
    "\n",
    "clf = RandomForestClassifier()\n",
    "clf.fit(x_train, y_train)\n",
    "clf_score = clf.score(x_test, y_test)\n",
    "\n",
    "cross_values = cross_val_score(clf, x, y, cv = 5)\n",
    "accuracy_score = np.mean(cross_values)\n",
    "\n",
    "print(f'the accuracy of our model cross-evaluted is: {accuracy_score * 100:.2f}%')"
   ]
  },
  {
   "cell_type": "code",
   "execution_count": 12,
   "id": "exposed-disability",
   "metadata": {},
   "outputs": [
    {
     "data": {
      "text/plain": [
       "array([0.96666667, 0.96666667, 0.93333333, 0.96666667, 1.        ])"
      ]
     },
     "execution_count": 12,
     "metadata": {},
     "output_type": "execute_result"
    }
   ],
   "source": [
    "from sklearn.model_selection import cross_val_score\n",
    "\n",
    "cross_val_score(clf, x, y, cv = 5)"
   ]
  },
  {
   "cell_type": "code",
   "execution_count": 13,
   "id": "protecting-geneva",
   "metadata": {},
   "outputs": [
    {
     "data": {
      "text/plain": [
       "(0.9565217391304348, 0.9666666666666668)"
      ]
     },
     "execution_count": 13,
     "metadata": {},
     "output_type": "execute_result"
    }
   ],
   "source": [
    "cross_values = cross_val_score(clf, x, y, cv = 5)\n",
    "clf_cross_val = np.mean(cross_values)\n",
    "clf_score, clf_cross_val"
   ]
  },
  {
   "cell_type": "code",
   "execution_count": 14,
   "id": "alone-portal",
   "metadata": {},
   "outputs": [
    {
     "name": "stdout",
     "output_type": "stream",
     "text": [
      "the accuracy of our model with cross-evaluation is: 96.67%\n"
     ]
    }
   ],
   "source": [
    "print(f'the accuracy of our model with cross-evaluation is: {clf_cross_val * 100:.2f}%')"
   ]
  },
  {
   "cell_type": "code",
   "execution_count": 15,
   "id": "complex-paper",
   "metadata": {},
   "outputs": [
    {
     "name": "stdout",
     "output_type": "stream",
     "text": [
      "the accuracy of our model with the score method is: 95.65%\n"
     ]
    }
   ],
   "source": [
    "print(f'the accuracy of our model with the score method is: {clf_score * 100:.2f}%')"
   ]
  },
  {
   "cell_type": "code",
   "execution_count": 16,
   "id": "middle-solution",
   "metadata": {},
   "outputs": [
    {
     "data": {
      "text/plain": [
       "array([[0.  , 0.95, 0.05],\n",
       "       [0.  , 0.01, 0.99],\n",
       "       [1.  , 0.  , 0.  ],\n",
       "       [0.  , 0.99, 0.01],\n",
       "       [1.  , 0.  , 0.  ],\n",
       "       [0.  , 0.94, 0.06],\n",
       "       [0.  , 0.48, 0.52],\n",
       "       [0.  , 1.  , 0.  ],\n",
       "       [1.  , 0.  , 0.  ],\n",
       "       [0.  , 0.99, 0.01]])"
      ]
     },
     "execution_count": 16,
     "metadata": {},
     "output_type": "execute_result"
    }
   ],
   "source": [
    "np.random.seed(10)\n",
    "\n",
    "# binerizing the output\n",
    "from sklearn.preprocessing import label_binarize\n",
    "# y = label_binarize(y, classes=[0, 1, 2])\n",
    "binary_y = label_binarize(y, classes = [0, 1, 2])\n",
    "\n",
    "# predicting probabilities\n",
    "y_probs = clf.predict_proba(x_test)\n",
    "y_probs[:10]"
   ]
  },
  {
   "cell_type": "code",
   "execution_count": 17,
   "id": "imposed-digit",
   "metadata": {},
   "outputs": [
    {
     "data": {
      "text/plain": [
       "array([0.95, 0.01, 0.  , 0.99, 0.  , 0.94, 0.48, 1.  , 0.  , 0.99])"
      ]
     },
     "execution_count": 17,
     "metadata": {},
     "output_type": "execute_result"
    }
   ],
   "source": [
    "y_probs_positive = y_probs[:,1]\n",
    "y_probs_positive[:10]"
   ]
  },
  {
   "cell_type": "markdown",
   "id": "minor-addiction",
   "metadata": {},
   "source": [
    "## using the ROC curve\n",
    "* note: works only for **binary** classification"
   ]
  },
  {
   "cell_type": "markdown",
   "id": "analyzed-duration",
   "metadata": {},
   "source": [
    "learning new things about sklearn and ROC/AUC curves:"
   ]
  },
  {
   "cell_type": "code",
   "execution_count": 18,
   "id": "nuclear-legend",
   "metadata": {},
   "outputs": [
    {
     "data": {
      "text/html": [
       "<div>\n",
       "<style scoped>\n",
       "    .dataframe tbody tr th:only-of-type {\n",
       "        vertical-align: middle;\n",
       "    }\n",
       "\n",
       "    .dataframe tbody tr th {\n",
       "        vertical-align: top;\n",
       "    }\n",
       "\n",
       "    .dataframe thead th {\n",
       "        text-align: right;\n",
       "    }\n",
       "</style>\n",
       "<table border=\"1\" class=\"dataframe\">\n",
       "  <thead>\n",
       "    <tr style=\"text-align: right;\">\n",
       "      <th></th>\n",
       "      <th>sepal length</th>\n",
       "      <th>sepal width</th>\n",
       "      <th>petal length</th>\n",
       "      <th>petal width</th>\n",
       "      <th>target</th>\n",
       "    </tr>\n",
       "  </thead>\n",
       "  <tbody>\n",
       "    <tr>\n",
       "      <th>0</th>\n",
       "      <td>5.1</td>\n",
       "      <td>3.5</td>\n",
       "      <td>1.4</td>\n",
       "      <td>0.2</td>\n",
       "      <td>0</td>\n",
       "    </tr>\n",
       "    <tr>\n",
       "      <th>1</th>\n",
       "      <td>4.9</td>\n",
       "      <td>3.0</td>\n",
       "      <td>1.4</td>\n",
       "      <td>0.2</td>\n",
       "      <td>0</td>\n",
       "    </tr>\n",
       "    <tr>\n",
       "      <th>2</th>\n",
       "      <td>4.7</td>\n",
       "      <td>3.2</td>\n",
       "      <td>1.3</td>\n",
       "      <td>0.2</td>\n",
       "      <td>0</td>\n",
       "    </tr>\n",
       "    <tr>\n",
       "      <th>3</th>\n",
       "      <td>4.6</td>\n",
       "      <td>3.1</td>\n",
       "      <td>1.5</td>\n",
       "      <td>0.2</td>\n",
       "      <td>0</td>\n",
       "    </tr>\n",
       "    <tr>\n",
       "      <th>4</th>\n",
       "      <td>5.0</td>\n",
       "      <td>3.6</td>\n",
       "      <td>1.4</td>\n",
       "      <td>0.2</td>\n",
       "      <td>0</td>\n",
       "    </tr>\n",
       "  </tbody>\n",
       "</table>\n",
       "</div>"
      ],
      "text/plain": [
       "   sepal length  sepal width  petal length  petal width  target\n",
       "0           5.1          3.5           1.4          0.2       0\n",
       "1           4.9          3.0           1.4          0.2       0\n",
       "2           4.7          3.2           1.3          0.2       0\n",
       "3           4.6          3.1           1.5          0.2       0\n",
       "4           5.0          3.6           1.4          0.2       0"
      ]
     },
     "execution_count": 18,
     "metadata": {},
     "output_type": "execute_result"
    }
   ],
   "source": [
    "column_names = ['sepal length', 'sepal width', 'petal length', 'petal width']\n",
    "iris_df = pd.DataFrame(iris.data, columns = column_names)\n",
    "iris_df['target'] = iris['target']\n",
    "iris_df.head()"
   ]
  },
  {
   "cell_type": "code",
   "execution_count": 42,
   "id": "challenging-heather",
   "metadata": {},
   "outputs": [],
   "source": [
    "from sklearn.svm import SVC\n",
    "from sklearn.datasets import load_iris\n",
    "from sklearn.metrics import roc_curve, auc, roc_auc_score\n",
    "from sklearn.model_selection import train_test_split\n",
    "from sklearn.preprocessing import label_binarize\n",
    "from sklearn.multiclass import OneVsRestClassifier\n",
    "\n",
    "# initializing our axes \n",
    "x = iris_df.drop('target', axis = 1)\n",
    "y = iris_df['target']\n",
    "\n",
    "# Binarizing the output (the target column)\n",
    "y = label_binarize(y, classes=[0, 1, 2])\n",
    "# the numbers of classes are the second dimension of the array\n",
    "n_classes = y.shape[1]\n",
    "\n",
    "# splitting into train and set the data\n",
    "x_train, x_test, y_train, y_test = train_test_split(x, y, test_size= 0.5)\n",
    "\n",
    "# using as clf the OneVsRest, it fit one clf per class\n",
    "# and fit the class against the others\n",
    "# as estimator is uses the Support Vector Classificator\n",
    "clf = OneVsRestClassifier(SVC()) \n",
    "# the tpr score of y is estimated by decision_function,\n",
    "# which tells us how far we are and which side we are on \n",
    "# the plane generated by the classifier\n",
    "y_score = clf.fit(x_train, y_train).decision_function(x_test)\n",
    "\n",
    "# making them a dictionary with all the scores that we need\n",
    "fpr = dict()\n",
    "tpr = dict()\n",
    "roc_auc = dict()\n",
    "for i in range(n_classes):\n",
    "    # the roc_curve function returns the fpr, the tpr and the thresholds\n",
    "    # writing array[:, i] will return the tpr of that array\n",
    "    fpr[i], tpr[i], threshold = roc_curve(y_test[:, i], y_score[:, i])\n",
    "    # calculating the area under the ROC curve\n",
    "    roc_auc[i] = auc(fpr[i], tpr[i])"
   ]
  },
  {
   "cell_type": "code",
   "execution_count": 58,
   "id": "accepting-director",
   "metadata": {},
   "outputs": [
    {
     "data": {
      "text/plain": [
       "0.985632183908046"
      ]
     },
     "execution_count": 58,
     "metadata": {},
     "output_type": "execute_result"
    }
   ],
   "source": [
    "roc_auc_score(y_test[:,0], y_score[:,0])"
   ]
  },
  {
   "cell_type": "code",
   "execution_count": 75,
   "id": "metric-morrison",
   "metadata": {},
   "outputs": [
    {
     "data": {
      "image/png": "[encoded data removed]",
      "text/plain": [
       "<Figure size 432x288 with 1 Axes>"
      ]
     },
     "metadata": {
      "needs_background": "light"
     },
     "output_type": "display_data"
    }
   ],
   "source": [
    "%matplotlib inline\n",
    "import matplotlib.pyplot as plt\n",
    "\n",
    "def plot_roc(fpr, tpr, n_classes):\n",
    "    \"\"\"\n",
    "    takes two dictionary  one about the fpr and tpr plus the \n",
    "    number of classes for then doing a quick plot of all of them.\n",
    "    can be a lot better, still a great starting point\n",
    "    \"\"\"\n",
    "    # for now max three colors\n",
    "    colors = ['red', 'green', 'orange']\n",
    "    plt.figure()\n",
    "    for i in range(n_classes):\n",
    "        plt.plot(fpr[i], tpr[i], color=colors[i],\n",
    "        label='ROC score of %0.2f' % roc_auc_score(y_test[:,i], y_score[:,i]))\n",
    "    #creating the guessing baseline\n",
    "    plt.plot([0, 1], [0, 1], color='navy', linestyle='--')\n",
    "    plt.xlabel('False Positive Rate')\n",
    "    plt.ylabel('True Positive Rate')\n",
    "    plt.title('ROC quick plot')\n",
    "    # positioning the legend\n",
    "    plt.legend(loc=\"lower right\")\n",
    "    plt.show()\n",
    "    \n",
    "plot_roc(fpr, tpr, n_classes)"
   ]
  },
  {
   "cell_type": "markdown",
   "id": "distinct-amazon",
   "metadata": {},
   "source": [
    "trying it on another dataset"
   ]
  },
  {
   "cell_type": "code",
   "execution_count": 55,
   "id": "caring-sussex",
   "metadata": {},
   "outputs": [],
   "source": [
    "from sklearn.datasets import load_wine\n",
    "wines = load_wine()"
   ]
  },
  {
   "cell_type": "code",
   "execution_count": 76,
   "id": "cubic-export",
   "metadata": {},
   "outputs": [
    {
     "data": {
      "image/png": "[encoded data removed]",
      "text/plain": [
       "<Figure size 432x288 with 1 Axes>"
      ]
     },
     "metadata": {
      "needs_background": "light"
     },
     "output_type": "display_data"
    }
   ],
   "source": [
    "x = wines.data\n",
    "y = wines.target\n",
    "\n",
    "# Binarizing the output (the target column)\n",
    "y = label_binarize(y, classes=[0, 1, 2])\n",
    "n_classes = y.shape[1]\n",
    "\n",
    "# splitting into train and set the data\n",
    "x_train, x_test, y_train, y_test = train_test_split(x, y, test_size= 0.5)\n",
    "\n",
    "clf = OneVsRestClassifier(SVC()) \n",
    "y_score = clf.fit(x_train, y_train).decision_function(x_test)\n",
    "\n",
    "fpr_wines = dict()\n",
    "tpr_wines = dict()\n",
    "roc_auc_wines = dict()\n",
    "for i in range(n_classes):\n",
    "    fpr_wines[i], tpr_wines[i], threshold = roc_curve(y_test[:, i], y_score[:, i])\n",
    "    roc_auc_wines[i] = auc(fpr[i], tpr[i])\n",
    "    \n",
    "plot_roc(fpr_wines,tpr_wines, n_classes)"
   ]
  },
  {
   "cell_type": "code",
   "execution_count": null,
   "id": "solved-absence",
   "metadata": {},
   "outputs": [],
   "source": []
  }
 ],
 "metadata": {
  "kernelspec": {
   "display_name": "Python 3",
   "language": "python",
   "name": "python3"
  },
  "language_info": {
   "codemirror_mode": {
    "name": "ipython",
    "version": 3
   },
   "file_extension": ".py",
   "mimetype": "text/x-python",
   "name": "python",
   "nbconvert_exporter": "python",
   "pygments_lexer": "ipython3",
   "version": "3.9.2"
  }
 },
 "nbformat": 4,
 "nbformat_minor": 5
}
