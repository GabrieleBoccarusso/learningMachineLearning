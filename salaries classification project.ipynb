{
 "cells": [
  {
   "cell_type": "markdown",
   "id": "binary-surface",
   "metadata": {},
   "source": [
    "# Predicting annual incomes using machine learning"
   ]
  },
  {
   "cell_type": "markdown",
   "id": "sublime-render",
   "metadata": {},
   "source": [
    "Note: the following project is based on [this guided project](https://github.com/mrdbourke/zero-to-mastery-ml/blob/master/section-3-structured-data-projects/end-to-end-heart-disease-classification-video.ipynb) by [Daniel Bourke](https://github.com/mrdbourke)"
   ]
  },
  {
   "cell_type": "markdown",
   "id": "abstract-supplier",
   "metadata": {},
   "source": [
    "Table of contents:\n",
    "- [Problem definition](#Problem-definition)\n",
    "- [Data](#Data)\n",
    "- [Evaluation](#Evaluation)\n",
    "- [Features](#Features)\n",
    "- [Preparing the tools](#Preparing-the-tools)\n",
    "    - [Models documentations](#Models-docs)\n",
    "- [Loading data](#Loading-data)\n",
    "- [Exploratory Data Analysis](#EDA)\n",
    "    - [Creating the correlation matrix](#Creating-the-correlation-matrix)\n",
    "    - [The role of race according to annual income](#The-role-of-race-according-to-annual-income)\n",
    "    - [Relationship status according to annual income](#Relationship-status-according-to-annual-income)\n",
    "- [Modelling](#Modelling)\n",
    "    - [Creating a baseline](#Creating-a-baseline)\n",
    "- [Hyperparameter tuning](#Hyperparameter-tuning)\n",
    "    - [Tuning K Nearest Neighbors](#Tuning-K-Nearest-Neighbors)\n",
    "    - [Tuning LinearSVC](#Tuning-LinearSVC)\n",
    "    - [Tuning Random Forest Classifier](#Tuning-Random-Forest-Classifier)\n",
    "- [Model evaluation](#Model-evaluation)\n",
    "    - [ROC curve](#ROC-curve)\n",
    "    - [Confusion matrix](#Confusion-matrix)\n",
    "    - [Using cross-validation](#Using-cross-validation)\n",
    "    - [Cross-validated metrics visualized](#Cross-validated-metrics-visualized)\n",
    "- [Feature importance](#Feature-importance)\n",
    "- [Conclusion](#Conclusion)"
   ]
  },
  {
   "cell_type": "markdown",
   "id": "premier-moderator",
   "metadata": {},
   "source": [
    "## Problem definition\n",
    "\n",
    "Given a datasets about workers from all over the world we have to predict whether they have income greater than 50 thousands dollars at year or not"
   ]
  },
  {
   "cell_type": "markdown",
   "id": "exact-found",
   "metadata": {},
   "source": [
    "## Data\n",
    "\n",
    "Data source: http://archive.ics.uci.edu/ml/datasets/Adult\n",
    "\n",
    "There is another version at: https://www.kaggle.com/uciml/adult-census-income"
   ]
  },
  {
   "cell_type": "markdown",
   "id": "forward-produce",
   "metadata": {},
   "source": [
    "## Evaluation\n",
    "\n",
    "> If we can reach a 95% of accuracy at predicting the annual income ( more or less than 50k per year) we'll pursue the project"
   ]
  },
  {
   "cell_type": "markdown",
   "id": "overall-turkey",
   "metadata": {},
   "source": [
    "## Features\n",
    "\n",
    "- age: continuous.\n",
    "- workclass: Private, Self-emp-not-inc, Self-emp-inc, Federal-gov, Local-gov, State-gov, Without-pay, Never-worked.\n",
    "- fnlwgt: continuous.\n",
    "- education: Bachelors, Some-college, 11th, HS-grad, Prof-school, Assoc-acdm, Assoc-voc, 9th, 7th-8th, 12th, Masters, 1st-4th, 10th, Doctorate, 5th-6th, Preschool.\n",
    "- education-num: continuous.\n",
    "- marital-status: Married-civ-spouse, Divorced, Never-married, Separated, Widowed, Married-spouse-absent, Married-AF-spouse.\n",
    "- occupation: Tech-support, Craft-repair, Other-service, Sales, Exec-managerial, Prof-specialty, Handlers-cleaners, Machine-op-inspct, Adm-clerical, Farming-fishing, Transport-moving, Priv-house-serv, Protective-serv, Armed-Forces.\n",
    "- relationship: Wife, Own-child, Husband, Not-in-family, Other-relative, Unmarried.\n",
    "- race: White, Asian-Pac-Islander, Amer-Indian-Eskimo, Other, Black.\n",
    "- sex: Female, Male.\n",
    "- capital-gain: continuous.\n",
    "- capital-loss: continuous.\n",
    "- hours-per-week: continuous.\n",
    "- native-country: United-States, Cambodia, England, Puerto-Rico, Canada, Germany, Outlying-US(Guam-USVI-etc), India, Japan, Greece, South, China, Cuba, Iran, Honduras, Philippines, Italy, Poland, Jamaica, Vietnam, Mexico, Portugal, Ireland, France, Dominican-Republic, Laos, Ecuador, Taiwan, Haiti, Columbia, Hungary, Guatemala, Nicaragua, Scotland, Thailand, Yugoslavia, El-Salvador, Trinadad&Tobago, Peru, Hong, Holand-Netherlands.\n",
    "> annual income: \\>50K, <=50K."
   ]
  },
  {
   "cell_type": "markdown",
   "id": "streaming-meeting",
   "metadata": {},
   "source": [
    "## Preparing the tools"
   ]
  },
  {
   "cell_type": "code",
   "execution_count": 1,
   "id": "authentic-chess",
   "metadata": {},
   "outputs": [],
   "source": [
    "# Regular EDA and plotting libraries\n",
    "import pandas as pd\n",
    "import numpy as np\n",
    "import matplotlib.pyplot as plt\n",
    "import seaborn as sns\n",
    "\n",
    "# we want our plots in the notebook\n",
    "%matplotlib inline\n",
    "\n",
    "# classification models\n",
    "from sklearn.neighbors import KNeighborsClassifier \n",
    "from sklearn.ensemble import RandomForestClassifier\n",
    "from sklearn.svm import LinearSVC\n",
    "\n",
    "# model selections\n",
    "from sklearn.model_selection import train_test_split\n",
    "from sklearn.model_selection import cross_val_score\n",
    "from sklearn.model_selection import RandomizedSearchCV\n",
    "from sklearn.model_selection import GridSearchCV\n",
    "\n",
    "# classification metrics\n",
    "from sklearn.metrics import confusion_matrix\n",
    "from sklearn.metrics import precision_score\n",
    "from sklearn.metrics import f1_score\n",
    "from sklearn.metrics import classification_report\n",
    "from sklearn.metrics import recall_score\n",
    "from sklearn.metrics import plot_roc_curve\n",
    "\n",
    "# one hot encoding\n",
    "from sklearn.impute import SimpleImputer\n",
    "from sklearn.pipeline import Pipeline\n",
    "from sklearn.compose import ColumnTransformer\n",
    "from sklearn.preprocessing import OneHotEncoder\n",
    "\n",
    "# eliminate warning\n",
    "import warnings\n",
    "warnings.filterwarnings('ignore')"
   ]
  },
  {
   "cell_type": "markdown",
   "id": "great-commonwealth",
   "metadata": {},
   "source": [
    "### Models docs\n",
    "\n",
    "- **KNN documentation:** https://scikit-learn.org/stable/modules/generated/sklearn.neighbors.KNeighborsClassifier.html#sklearn.neighbors.KNeighborsClassifier\n",
    "- **RandomForestClassifier documentation:** https://scikit-learn.org/stable/modules/generated/sklearn.ensemble.RandomForestClassifier.html#sklearn.ensemble.RandomForestClassifier\n",
    "- **LinearSVC documentation:** https://scikit-learn.org/stable/modules/generated/sklearn.svm.LinearSVC.html#sklearn.svm.LinearSVC"
   ]
  },
  {
   "cell_type": "markdown",
   "id": "strong-liver",
   "metadata": {},
   "source": [
    "## Loading data"
   ]
  },
  {
   "cell_type": "code",
   "execution_count": 2,
   "id": "wanted-craps",
   "metadata": {},
   "outputs": [
    {
     "data": {
      "text/html": [
       "<div>\n",
       "<style scoped>\n",
       "    .dataframe tbody tr th:only-of-type {\n",
       "        vertical-align: middle;\n",
       "    }\n",
       "\n",
       "    .dataframe tbody tr th {\n",
       "        vertical-align: top;\n",
       "    }\n",
       "\n",
       "    .dataframe thead th {\n",
       "        text-align: right;\n",
       "    }\n",
       "</style>\n",
       "<table border=\"1\" class=\"dataframe\">\n",
       "  <thead>\n",
       "    <tr style=\"text-align: right;\">\n",
       "      <th></th>\n",
       "      <th>0</th>\n",
       "      <th>1</th>\n",
       "      <th>2</th>\n",
       "      <th>3</th>\n",
       "      <th>4</th>\n",
       "      <th>5</th>\n",
       "      <th>6</th>\n",
       "      <th>7</th>\n",
       "      <th>8</th>\n",
       "      <th>9</th>\n",
       "      <th>10</th>\n",
       "      <th>11</th>\n",
       "      <th>12</th>\n",
       "      <th>13</th>\n",
       "      <th>14</th>\n",
       "    </tr>\n",
       "  </thead>\n",
       "  <tbody>\n",
       "    <tr>\n",
       "      <th>0</th>\n",
       "      <td>39</td>\n",
       "      <td>State-gov</td>\n",
       "      <td>77516</td>\n",
       "      <td>Bachelors</td>\n",
       "      <td>13</td>\n",
       "      <td>Never-married</td>\n",
       "      <td>Adm-clerical</td>\n",
       "      <td>Not-in-family</td>\n",
       "      <td>White</td>\n",
       "      <td>Male</td>\n",
       "      <td>2174</td>\n",
       "      <td>0</td>\n",
       "      <td>40</td>\n",
       "      <td>United-States</td>\n",
       "      <td>&lt;=50K</td>\n",
       "    </tr>\n",
       "    <tr>\n",
       "      <th>1</th>\n",
       "      <td>50</td>\n",
       "      <td>Self-emp-not-inc</td>\n",
       "      <td>83311</td>\n",
       "      <td>Bachelors</td>\n",
       "      <td>13</td>\n",
       "      <td>Married-civ-spouse</td>\n",
       "      <td>Exec-managerial</td>\n",
       "      <td>Husband</td>\n",
       "      <td>White</td>\n",
       "      <td>Male</td>\n",
       "      <td>0</td>\n",
       "      <td>0</td>\n",
       "      <td>13</td>\n",
       "      <td>United-States</td>\n",
       "      <td>&lt;=50K</td>\n",
       "    </tr>\n",
       "    <tr>\n",
       "      <th>2</th>\n",
       "      <td>38</td>\n",
       "      <td>Private</td>\n",
       "      <td>215646</td>\n",
       "      <td>HS-grad</td>\n",
       "      <td>9</td>\n",
       "      <td>Divorced</td>\n",
       "      <td>Handlers-cleaners</td>\n",
       "      <td>Not-in-family</td>\n",
       "      <td>White</td>\n",
       "      <td>Male</td>\n",
       "      <td>0</td>\n",
       "      <td>0</td>\n",
       "      <td>40</td>\n",
       "      <td>United-States</td>\n",
       "      <td>&lt;=50K</td>\n",
       "    </tr>\n",
       "    <tr>\n",
       "      <th>3</th>\n",
       "      <td>53</td>\n",
       "      <td>Private</td>\n",
       "      <td>234721</td>\n",
       "      <td>11th</td>\n",
       "      <td>7</td>\n",
       "      <td>Married-civ-spouse</td>\n",
       "      <td>Handlers-cleaners</td>\n",
       "      <td>Husband</td>\n",
       "      <td>Black</td>\n",
       "      <td>Male</td>\n",
       "      <td>0</td>\n",
       "      <td>0</td>\n",
       "      <td>40</td>\n",
       "      <td>United-States</td>\n",
       "      <td>&lt;=50K</td>\n",
       "    </tr>\n",
       "    <tr>\n",
       "      <th>4</th>\n",
       "      <td>28</td>\n",
       "      <td>Private</td>\n",
       "      <td>338409</td>\n",
       "      <td>Bachelors</td>\n",
       "      <td>13</td>\n",
       "      <td>Married-civ-spouse</td>\n",
       "      <td>Prof-specialty</td>\n",
       "      <td>Wife</td>\n",
       "      <td>Black</td>\n",
       "      <td>Female</td>\n",
       "      <td>0</td>\n",
       "      <td>0</td>\n",
       "      <td>40</td>\n",
       "      <td>Cuba</td>\n",
       "      <td>&lt;=50K</td>\n",
       "    </tr>\n",
       "  </tbody>\n",
       "</table>\n",
       "</div>"
      ],
      "text/plain": [
       "   0                  1       2           3   4                    5   \\\n",
       "0  39          State-gov   77516   Bachelors  13        Never-married   \n",
       "1  50   Self-emp-not-inc   83311   Bachelors  13   Married-civ-spouse   \n",
       "2  38            Private  215646     HS-grad   9             Divorced   \n",
       "3  53            Private  234721        11th   7   Married-civ-spouse   \n",
       "4  28            Private  338409   Bachelors  13   Married-civ-spouse   \n",
       "\n",
       "                   6               7       8        9     10  11  12  \\\n",
       "0        Adm-clerical   Not-in-family   White     Male  2174   0  40   \n",
       "1     Exec-managerial         Husband   White     Male     0   0  13   \n",
       "2   Handlers-cleaners   Not-in-family   White     Male     0   0  40   \n",
       "3   Handlers-cleaners         Husband   Black     Male     0   0  40   \n",
       "4      Prof-specialty            Wife   Black   Female     0   0  40   \n",
       "\n",
       "               13      14  \n",
       "0   United-States   <=50K  \n",
       "1   United-States   <=50K  \n",
       "2   United-States   <=50K  \n",
       "3   United-States   <=50K  \n",
       "4            Cuba   <=50K  "
      ]
     },
     "execution_count": 2,
     "metadata": {},
     "output_type": "execute_result"
    }
   ],
   "source": [
    "df = pd.read_csv('data/adult-data.csv', header = None)\n",
    "df.head()"
   ]
  },
  {
   "cell_type": "markdown",
   "id": "unlimited-bedroom",
   "metadata": {},
   "source": [
    "because the data has no header we have to set the column names manually"
   ]
  },
  {
   "cell_type": "code",
   "execution_count": 3,
   "id": "choice-recruitment",
   "metadata": {},
   "outputs": [],
   "source": [
    "df.columns = ['age', 'workclass', 'fnlwgt', 'education', 'education-num',\n",
    "              'marital-status', 'occupation', 'relationship', 'race', 'sex',\n",
    "              'capital-gain', 'capital-loss', 'hours-per-week', 'native-country', 'annual-income']"
   ]
  },
  {
   "cell_type": "markdown",
   "id": "outside-harassment",
   "metadata": {},
   "source": [
    "## EDA"
   ]
  },
  {
   "cell_type": "code",
   "execution_count": 4,
   "id": "junior-reviewer",
   "metadata": {},
   "outputs": [
    {
     "data": {
      "text/html": [
       "<div>\n",
       "<style scoped>\n",
       "    .dataframe tbody tr th:only-of-type {\n",
       "        vertical-align: middle;\n",
       "    }\n",
       "\n",
       "    .dataframe tbody tr th {\n",
       "        vertical-align: top;\n",
       "    }\n",
       "\n",
       "    .dataframe thead th {\n",
       "        text-align: right;\n",
       "    }\n",
       "</style>\n",
       "<table border=\"1\" class=\"dataframe\">\n",
       "  <thead>\n",
       "    <tr style=\"text-align: right;\">\n",
       "      <th></th>\n",
       "      <th>age</th>\n",
       "      <th>workclass</th>\n",
       "      <th>fnlwgt</th>\n",
       "      <th>education</th>\n",
       "      <th>education-num</th>\n",
       "      <th>marital-status</th>\n",
       "      <th>occupation</th>\n",
       "      <th>relationship</th>\n",
       "      <th>race</th>\n",
       "      <th>sex</th>\n",
       "      <th>capital-gain</th>\n",
       "      <th>capital-loss</th>\n",
       "      <th>hours-per-week</th>\n",
       "      <th>native-country</th>\n",
       "      <th>annual-income</th>\n",
       "    </tr>\n",
       "  </thead>\n",
       "  <tbody>\n",
       "    <tr>\n",
       "      <th>0</th>\n",
       "      <td>39</td>\n",
       "      <td>State-gov</td>\n",
       "      <td>77516</td>\n",
       "      <td>Bachelors</td>\n",
       "      <td>13</td>\n",
       "      <td>Never-married</td>\n",
       "      <td>Adm-clerical</td>\n",
       "      <td>Not-in-family</td>\n",
       "      <td>White</td>\n",
       "      <td>Male</td>\n",
       "      <td>2174</td>\n",
       "      <td>0</td>\n",
       "      <td>40</td>\n",
       "      <td>United-States</td>\n",
       "      <td>&lt;=50K</td>\n",
       "    </tr>\n",
       "    <tr>\n",
       "      <th>1</th>\n",
       "      <td>50</td>\n",
       "      <td>Self-emp-not-inc</td>\n",
       "      <td>83311</td>\n",
       "      <td>Bachelors</td>\n",
       "      <td>13</td>\n",
       "      <td>Married-civ-spouse</td>\n",
       "      <td>Exec-managerial</td>\n",
       "      <td>Husband</td>\n",
       "      <td>White</td>\n",
       "      <td>Male</td>\n",
       "      <td>0</td>\n",
       "      <td>0</td>\n",
       "      <td>13</td>\n",
       "      <td>United-States</td>\n",
       "      <td>&lt;=50K</td>\n",
       "    </tr>\n",
       "    <tr>\n",
       "      <th>2</th>\n",
       "      <td>38</td>\n",
       "      <td>Private</td>\n",
       "      <td>215646</td>\n",
       "      <td>HS-grad</td>\n",
       "      <td>9</td>\n",
       "      <td>Divorced</td>\n",
       "      <td>Handlers-cleaners</td>\n",
       "      <td>Not-in-family</td>\n",
       "      <td>White</td>\n",
       "      <td>Male</td>\n",
       "      <td>0</td>\n",
       "      <td>0</td>\n",
       "      <td>40</td>\n",
       "      <td>United-States</td>\n",
       "      <td>&lt;=50K</td>\n",
       "    </tr>\n",
       "    <tr>\n",
       "      <th>3</th>\n",
       "      <td>53</td>\n",
       "      <td>Private</td>\n",
       "      <td>234721</td>\n",
       "      <td>11th</td>\n",
       "      <td>7</td>\n",
       "      <td>Married-civ-spouse</td>\n",
       "      <td>Handlers-cleaners</td>\n",
       "      <td>Husband</td>\n",
       "      <td>Black</td>\n",
       "      <td>Male</td>\n",
       "      <td>0</td>\n",
       "      <td>0</td>\n",
       "      <td>40</td>\n",
       "      <td>United-States</td>\n",
       "      <td>&lt;=50K</td>\n",
       "    </tr>\n",
       "    <tr>\n",
       "      <th>4</th>\n",
       "      <td>28</td>\n",
       "      <td>Private</td>\n",
       "      <td>338409</td>\n",
       "      <td>Bachelors</td>\n",
       "      <td>13</td>\n",
       "      <td>Married-civ-spouse</td>\n",
       "      <td>Prof-specialty</td>\n",
       "      <td>Wife</td>\n",
       "      <td>Black</td>\n",
       "      <td>Female</td>\n",
       "      <td>0</td>\n",
       "      <td>0</td>\n",
       "      <td>40</td>\n",
       "      <td>Cuba</td>\n",
       "      <td>&lt;=50K</td>\n",
       "    </tr>\n",
       "  </tbody>\n",
       "</table>\n",
       "</div>"
      ],
      "text/plain": [
       "   age          workclass  fnlwgt   education  education-num  \\\n",
       "0   39          State-gov   77516   Bachelors             13   \n",
       "1   50   Self-emp-not-inc   83311   Bachelors             13   \n",
       "2   38            Private  215646     HS-grad              9   \n",
       "3   53            Private  234721        11th              7   \n",
       "4   28            Private  338409   Bachelors             13   \n",
       "\n",
       "        marital-status          occupation    relationship    race      sex  \\\n",
       "0        Never-married        Adm-clerical   Not-in-family   White     Male   \n",
       "1   Married-civ-spouse     Exec-managerial         Husband   White     Male   \n",
       "2             Divorced   Handlers-cleaners   Not-in-family   White     Male   \n",
       "3   Married-civ-spouse   Handlers-cleaners         Husband   Black     Male   \n",
       "4   Married-civ-spouse      Prof-specialty            Wife   Black   Female   \n",
       "\n",
       "   capital-gain  capital-loss  hours-per-week  native-country annual-income  \n",
       "0          2174             0              40   United-States         <=50K  \n",
       "1             0             0              13   United-States         <=50K  \n",
       "2             0             0              40   United-States         <=50K  \n",
       "3             0             0              40   United-States         <=50K  \n",
       "4             0             0              40            Cuba         <=50K  "
      ]
     },
     "execution_count": 4,
     "metadata": {},
     "output_type": "execute_result"
    }
   ],
   "source": [
    "df.head()"
   ]
  },
  {
   "cell_type": "code",
   "execution_count": 5,
   "id": "valued-equation",
   "metadata": {},
   "outputs": [
    {
     "data": {
      "text/html": [
       "<div>\n",
       "<style scoped>\n",
       "    .dataframe tbody tr th:only-of-type {\n",
       "        vertical-align: middle;\n",
       "    }\n",
       "\n",
       "    .dataframe tbody tr th {\n",
       "        vertical-align: top;\n",
       "    }\n",
       "\n",
       "    .dataframe thead th {\n",
       "        text-align: right;\n",
       "    }\n",
       "</style>\n",
       "<table border=\"1\" class=\"dataframe\">\n",
       "  <thead>\n",
       "    <tr style=\"text-align: right;\">\n",
       "      <th></th>\n",
       "      <th>age</th>\n",
       "      <th>workclass</th>\n",
       "      <th>fnlwgt</th>\n",
       "      <th>education</th>\n",
       "      <th>education-num</th>\n",
       "      <th>marital-status</th>\n",
       "      <th>occupation</th>\n",
       "      <th>relationship</th>\n",
       "      <th>race</th>\n",
       "      <th>sex</th>\n",
       "      <th>capital-gain</th>\n",
       "      <th>capital-loss</th>\n",
       "      <th>hours-per-week</th>\n",
       "      <th>native-country</th>\n",
       "      <th>annual-income</th>\n",
       "    </tr>\n",
       "  </thead>\n",
       "  <tbody>\n",
       "    <tr>\n",
       "      <th>32556</th>\n",
       "      <td>27</td>\n",
       "      <td>Private</td>\n",
       "      <td>257302</td>\n",
       "      <td>Assoc-acdm</td>\n",
       "      <td>12</td>\n",
       "      <td>Married-civ-spouse</td>\n",
       "      <td>Tech-support</td>\n",
       "      <td>Wife</td>\n",
       "      <td>White</td>\n",
       "      <td>Female</td>\n",
       "      <td>0</td>\n",
       "      <td>0</td>\n",
       "      <td>38</td>\n",
       "      <td>United-States</td>\n",
       "      <td>&lt;=50K</td>\n",
       "    </tr>\n",
       "    <tr>\n",
       "      <th>32557</th>\n",
       "      <td>40</td>\n",
       "      <td>Private</td>\n",
       "      <td>154374</td>\n",
       "      <td>HS-grad</td>\n",
       "      <td>9</td>\n",
       "      <td>Married-civ-spouse</td>\n",
       "      <td>Machine-op-inspct</td>\n",
       "      <td>Husband</td>\n",
       "      <td>White</td>\n",
       "      <td>Male</td>\n",
       "      <td>0</td>\n",
       "      <td>0</td>\n",
       "      <td>40</td>\n",
       "      <td>United-States</td>\n",
       "      <td>&gt;50K</td>\n",
       "    </tr>\n",
       "    <tr>\n",
       "      <th>32558</th>\n",
       "      <td>58</td>\n",
       "      <td>Private</td>\n",
       "      <td>151910</td>\n",
       "      <td>HS-grad</td>\n",
       "      <td>9</td>\n",
       "      <td>Widowed</td>\n",
       "      <td>Adm-clerical</td>\n",
       "      <td>Unmarried</td>\n",
       "      <td>White</td>\n",
       "      <td>Female</td>\n",
       "      <td>0</td>\n",
       "      <td>0</td>\n",
       "      <td>40</td>\n",
       "      <td>United-States</td>\n",
       "      <td>&lt;=50K</td>\n",
       "    </tr>\n",
       "    <tr>\n",
       "      <th>32559</th>\n",
       "      <td>22</td>\n",
       "      <td>Private</td>\n",
       "      <td>201490</td>\n",
       "      <td>HS-grad</td>\n",
       "      <td>9</td>\n",
       "      <td>Never-married</td>\n",
       "      <td>Adm-clerical</td>\n",
       "      <td>Own-child</td>\n",
       "      <td>White</td>\n",
       "      <td>Male</td>\n",
       "      <td>0</td>\n",
       "      <td>0</td>\n",
       "      <td>20</td>\n",
       "      <td>United-States</td>\n",
       "      <td>&lt;=50K</td>\n",
       "    </tr>\n",
       "    <tr>\n",
       "      <th>32560</th>\n",
       "      <td>52</td>\n",
       "      <td>Self-emp-inc</td>\n",
       "      <td>287927</td>\n",
       "      <td>HS-grad</td>\n",
       "      <td>9</td>\n",
       "      <td>Married-civ-spouse</td>\n",
       "      <td>Exec-managerial</td>\n",
       "      <td>Wife</td>\n",
       "      <td>White</td>\n",
       "      <td>Female</td>\n",
       "      <td>15024</td>\n",
       "      <td>0</td>\n",
       "      <td>40</td>\n",
       "      <td>United-States</td>\n",
       "      <td>&gt;50K</td>\n",
       "    </tr>\n",
       "  </tbody>\n",
       "</table>\n",
       "</div>"
      ],
      "text/plain": [
       "       age      workclass  fnlwgt    education  education-num  \\\n",
       "32556   27        Private  257302   Assoc-acdm             12   \n",
       "32557   40        Private  154374      HS-grad              9   \n",
       "32558   58        Private  151910      HS-grad              9   \n",
       "32559   22        Private  201490      HS-grad              9   \n",
       "32560   52   Self-emp-inc  287927      HS-grad              9   \n",
       "\n",
       "            marital-status          occupation relationship    race      sex  \\\n",
       "32556   Married-civ-spouse        Tech-support         Wife   White   Female   \n",
       "32557   Married-civ-spouse   Machine-op-inspct      Husband   White     Male   \n",
       "32558              Widowed        Adm-clerical    Unmarried   White   Female   \n",
       "32559        Never-married        Adm-clerical    Own-child   White     Male   \n",
       "32560   Married-civ-spouse     Exec-managerial         Wife   White   Female   \n",
       "\n",
       "       capital-gain  capital-loss  hours-per-week  native-country  \\\n",
       "32556             0             0              38   United-States   \n",
       "32557             0             0              40   United-States   \n",
       "32558             0             0              40   United-States   \n",
       "32559             0             0              20   United-States   \n",
       "32560         15024             0              40   United-States   \n",
       "\n",
       "      annual-income  \n",
       "32556         <=50K  \n",
       "32557          >50K  \n",
       "32558         <=50K  \n",
       "32559         <=50K  \n",
       "32560          >50K  "
      ]
     },
     "execution_count": 5,
     "metadata": {},
     "output_type": "execute_result"
    }
   ],
   "source": [
    "df.tail()"
   ]
  },
  {
   "cell_type": "markdown",
   "id": "silent-uniform",
   "metadata": {},
   "source": [
    "finding out how many people have an income superior than 50k per year"
   ]
  },
  {
   "cell_type": "code",
   "execution_count": 6,
   "id": "balanced-lawsuit",
   "metadata": {},
   "outputs": [
    {
     "data": {
      "text/plain": [
       " <=50K    24720\n",
       " >50K      7841\n",
       "Name: annual-income, dtype: int64"
      ]
     },
     "execution_count": 6,
     "metadata": {},
     "output_type": "execute_result"
    }
   ],
   "source": [
    "df['annual-income'].value_counts()"
   ]
  },
  {
   "cell_type": "code",
   "execution_count": 7,
   "id": "built-chain",
   "metadata": {},
   "outputs": [
    {
     "data": {
      "text/plain": [
       " <=50K    0.75919\n",
       " >50K     0.24081\n",
       "Name: annual-income, dtype: float64"
      ]
     },
     "execution_count": 7,
     "metadata": {},
     "output_type": "execute_result"
    }
   ],
   "source": [
    "# viewing it in percentage\n",
    "df['annual-income'].value_counts(normalize = True)"
   ]
  },
  {
   "cell_type": "code",
   "execution_count": 8,
   "id": "greater-cutting",
   "metadata": {},
   "outputs": [
    {
     "data": {
      "text/plain": [
       "age                int64\n",
       "workclass         object\n",
       "fnlwgt             int64\n",
       "education         object\n",
       "education-num      int64\n",
       "marital-status    object\n",
       "occupation        object\n",
       "relationship      object\n",
       "race              object\n",
       "sex               object\n",
       "capital-gain       int64\n",
       "capital-loss       int64\n",
       "hours-per-week     int64\n",
       "native-country    object\n",
       "annual-income     object\n",
       "dtype: object"
      ]
     },
     "execution_count": 8,
     "metadata": {},
     "output_type": "execute_result"
    }
   ],
   "source": [
    "df.dtypes"
   ]
  },
  {
   "cell_type": "code",
   "execution_count": 9,
   "id": "internal-collection",
   "metadata": {},
   "outputs": [
    {
     "data": {
      "text/plain": [
       "age               0\n",
       "workclass         0\n",
       "fnlwgt            0\n",
       "education         0\n",
       "education-num     0\n",
       "marital-status    0\n",
       "occupation        0\n",
       "relationship      0\n",
       "race              0\n",
       "sex               0\n",
       "capital-gain      0\n",
       "capital-loss      0\n",
       "hours-per-week    0\n",
       "native-country    0\n",
       "annual-income     0\n",
       "dtype: int64"
      ]
     },
     "execution_count": 9,
     "metadata": {},
     "output_type": "execute_result"
    }
   ],
   "source": [
    "df.isna().sum()"
   ]
  },
  {
   "cell_type": "markdown",
   "id": "plastic-guyana",
   "metadata": {},
   "source": [
    "### Creating the correlation matrix"
   ]
  },
  {
   "cell_type": "code",
   "execution_count": 10,
   "id": "brilliant-hardware",
   "metadata": {},
   "outputs": [
    {
     "data": {
      "text/html": [
       "<div>\n",
       "<style scoped>\n",
       "    .dataframe tbody tr th:only-of-type {\n",
       "        vertical-align: middle;\n",
       "    }\n",
       "\n",
       "    .dataframe tbody tr th {\n",
       "        vertical-align: top;\n",
       "    }\n",
       "\n",
       "    .dataframe thead th {\n",
       "        text-align: right;\n",
       "    }\n",
       "</style>\n",
       "<table border=\"1\" class=\"dataframe\">\n",
       "  <thead>\n",
       "    <tr style=\"text-align: right;\">\n",
       "      <th></th>\n",
       "      <th>age</th>\n",
       "      <th>fnlwgt</th>\n",
       "      <th>education-num</th>\n",
       "      <th>capital-gain</th>\n",
       "      <th>capital-loss</th>\n",
       "      <th>hours-per-week</th>\n",
       "    </tr>\n",
       "  </thead>\n",
       "  <tbody>\n",
       "    <tr>\n",
       "      <th>age</th>\n",
       "      <td>1.000000</td>\n",
       "      <td>-0.076646</td>\n",
       "      <td>0.036527</td>\n",
       "      <td>0.077674</td>\n",
       "      <td>0.057775</td>\n",
       "      <td>0.068756</td>\n",
       "    </tr>\n",
       "    <tr>\n",
       "      <th>fnlwgt</th>\n",
       "      <td>-0.076646</td>\n",
       "      <td>1.000000</td>\n",
       "      <td>-0.043195</td>\n",
       "      <td>0.000432</td>\n",
       "      <td>-0.010252</td>\n",
       "      <td>-0.018768</td>\n",
       "    </tr>\n",
       "    <tr>\n",
       "      <th>education-num</th>\n",
       "      <td>0.036527</td>\n",
       "      <td>-0.043195</td>\n",
       "      <td>1.000000</td>\n",
       "      <td>0.122630</td>\n",
       "      <td>0.079923</td>\n",
       "      <td>0.148123</td>\n",
       "    </tr>\n",
       "    <tr>\n",
       "      <th>capital-gain</th>\n",
       "      <td>0.077674</td>\n",
       "      <td>0.000432</td>\n",
       "      <td>0.122630</td>\n",
       "      <td>1.000000</td>\n",
       "      <td>-0.031615</td>\n",
       "      <td>0.078409</td>\n",
       "    </tr>\n",
       "    <tr>\n",
       "      <th>capital-loss</th>\n",
       "      <td>0.057775</td>\n",
       "      <td>-0.010252</td>\n",
       "      <td>0.079923</td>\n",
       "      <td>-0.031615</td>\n",
       "      <td>1.000000</td>\n",
       "      <td>0.054256</td>\n",
       "    </tr>\n",
       "    <tr>\n",
       "      <th>hours-per-week</th>\n",
       "      <td>0.068756</td>\n",
       "      <td>-0.018768</td>\n",
       "      <td>0.148123</td>\n",
       "      <td>0.078409</td>\n",
       "      <td>0.054256</td>\n",
       "      <td>1.000000</td>\n",
       "    </tr>\n",
       "  </tbody>\n",
       "</table>\n",
       "</div>"
      ],
      "text/plain": [
       "                     age    fnlwgt  education-num  capital-gain  capital-loss  \\\n",
       "age             1.000000 -0.076646       0.036527      0.077674      0.057775   \n",
       "fnlwgt         -0.076646  1.000000      -0.043195      0.000432     -0.010252   \n",
       "education-num   0.036527 -0.043195       1.000000      0.122630      0.079923   \n",
       "capital-gain    0.077674  0.000432       0.122630      1.000000     -0.031615   \n",
       "capital-loss    0.057775 -0.010252       0.079923     -0.031615      1.000000   \n",
       "hours-per-week  0.068756 -0.018768       0.148123      0.078409      0.054256   \n",
       "\n",
       "                hours-per-week  \n",
       "age                   0.068756  \n",
       "fnlwgt               -0.018768  \n",
       "education-num         0.148123  \n",
       "capital-gain          0.078409  \n",
       "capital-loss          0.054256  \n",
       "hours-per-week        1.000000  "
      ]
     },
     "execution_count": 10,
     "metadata": {},
     "output_type": "execute_result"
    }
   ],
   "source": [
    "corr_matrix = df.corr()\n",
    "corr_matrix"
   ]
  },
  {
   "cell_type": "code",
   "execution_count": 11,
   "id": "creative-opposition",
   "metadata": {},
   "outputs": [
    {
     "data": {
      "image/png": "[encoded data removed]",
      "text/plain": [
       "<Figure size 1080x720 with 2 Axes>"
      ]
     },
     "metadata": {
      "needs_background": "light"
     },
     "output_type": "display_data"
    }
   ],
   "source": [
    "# making it more visual\n",
    "fig, ax = plt.subplots(figsize = (15, 10))\n",
    "ax = sns.heatmap(corr_matrix,\n",
    "                 annot = True,\n",
    "                 fmt = '.2f',\n",
    "                 cmap = 'Blues')"
   ]
  },
  {
   "cell_type": "markdown",
   "id": "psychological-tutorial",
   "metadata": {},
   "source": [
    "The correlation matrix can be done only between numerical values, which are something that we lack. <br>\n",
    "We'll have to explore our data more manually."
   ]
  },
  {
   "cell_type": "markdown",
   "id": "convinced-jesus",
   "metadata": {},
   "source": [
    "### The role of race according to annual income"
   ]
  },
  {
   "cell_type": "code",
   "execution_count": 12,
   "id": "institutional-daisy",
   "metadata": {},
   "outputs": [
    {
     "data": {
      "text/html": [
       "<div>\n",
       "<style scoped>\n",
       "    .dataframe tbody tr th:only-of-type {\n",
       "        vertical-align: middle;\n",
       "    }\n",
       "\n",
       "    .dataframe tbody tr th {\n",
       "        vertical-align: top;\n",
       "    }\n",
       "\n",
       "    .dataframe thead th {\n",
       "        text-align: right;\n",
       "    }\n",
       "</style>\n",
       "<table border=\"1\" class=\"dataframe\">\n",
       "  <thead>\n",
       "    <tr style=\"text-align: right;\">\n",
       "      <th>annual-income</th>\n",
       "      <th>&lt;=50K</th>\n",
       "      <th>&gt;50K</th>\n",
       "    </tr>\n",
       "    <tr>\n",
       "      <th>race</th>\n",
       "      <th></th>\n",
       "      <th></th>\n",
       "    </tr>\n",
       "  </thead>\n",
       "  <tbody>\n",
       "    <tr>\n",
       "      <th>Amer-Indian-Eskimo</th>\n",
       "      <td>275</td>\n",
       "      <td>36</td>\n",
       "    </tr>\n",
       "    <tr>\n",
       "      <th>Asian-Pac-Islander</th>\n",
       "      <td>763</td>\n",
       "      <td>276</td>\n",
       "    </tr>\n",
       "    <tr>\n",
       "      <th>Black</th>\n",
       "      <td>2737</td>\n",
       "      <td>387</td>\n",
       "    </tr>\n",
       "    <tr>\n",
       "      <th>Other</th>\n",
       "      <td>246</td>\n",
       "      <td>25</td>\n",
       "    </tr>\n",
       "    <tr>\n",
       "      <th>White</th>\n",
       "      <td>20699</td>\n",
       "      <td>7117</td>\n",
       "    </tr>\n",
       "  </tbody>\n",
       "</table>\n",
       "</div>"
      ],
      "text/plain": [
       "annual-income         <=50K   >50K\n",
       "race                              \n",
       " Amer-Indian-Eskimo     275     36\n",
       " Asian-Pac-Islander     763    276\n",
       " Black                 2737    387\n",
       " Other                  246     25\n",
       " White                20699   7117"
      ]
     },
     "execution_count": 12,
     "metadata": {},
     "output_type": "execute_result"
    }
   ],
   "source": [
    "pd.crosstab(df.race, df['annual-income'])"
   ]
  },
  {
   "cell_type": "code",
   "execution_count": 13,
   "id": "equal-genius",
   "metadata": {},
   "outputs": [
    {
     "data": {
      "image/png": "[encoded data removed]",
      "text/plain": [
       "<Figure size 864x432 with 1 Axes>"
      ]
     },
     "metadata": {
      "needs_background": "light"
     },
     "output_type": "display_data"
    }
   ],
   "source": [
    "pd.crosstab(df.race, df['annual-income']).T.plot(kind = 'bar',\n",
    "                                                 title = 'The role of race according to annual income',\n",
    "                                                 figsize = (12, 6),\n",
    "                                                 xlabel = 'annual income',\n",
    "                                                 ylabel = 'amount of people');"
   ]
  },
  {
   "cell_type": "markdown",
   "id": "liked-venezuela",
   "metadata": {},
   "source": [
    "This plot mat sound scary at a first glance, but we can notice that the majority of the datasets is made of whie people"
   ]
  },
  {
   "cell_type": "code",
   "execution_count": 14,
   "id": "rolled-darwin",
   "metadata": {},
   "outputs": [
    {
     "data": {
      "image/png": "[encoded data removed]",
      "text/plain": [
       "<Figure size 576x360 with 1 Axes>"
      ]
     },
     "metadata": {
      "needs_background": "light"
     },
     "output_type": "display_data"
    }
   ],
   "source": [
    "fig, ax = plt.subplots(figsize = (8, 5))\n",
    "hist_plot = plt.hist(df.race)\n",
    "hist_plot = ax.set(xlabel = 'race',\n",
    "                   ylabel = 'amount')"
   ]
  },
  {
   "cell_type": "markdown",
   "id": "literary-trouble",
   "metadata": {},
   "source": [
    "### Relationship status according to annual income"
   ]
  },
  {
   "cell_type": "code",
   "execution_count": 15,
   "id": "cosmetic-cardiff",
   "metadata": {},
   "outputs": [
    {
     "data": {
      "text/html": [
       "<div>\n",
       "<style scoped>\n",
       "    .dataframe tbody tr th:only-of-type {\n",
       "        vertical-align: middle;\n",
       "    }\n",
       "\n",
       "    .dataframe tbody tr th {\n",
       "        vertical-align: top;\n",
       "    }\n",
       "\n",
       "    .dataframe thead th {\n",
       "        text-align: right;\n",
       "    }\n",
       "</style>\n",
       "<table border=\"1\" class=\"dataframe\">\n",
       "  <thead>\n",
       "    <tr style=\"text-align: right;\">\n",
       "      <th>relationship</th>\n",
       "      <th>Husband</th>\n",
       "      <th>Not-in-family</th>\n",
       "      <th>Other-relative</th>\n",
       "      <th>Own-child</th>\n",
       "      <th>Unmarried</th>\n",
       "      <th>Wife</th>\n",
       "    </tr>\n",
       "    <tr>\n",
       "      <th>annual-income</th>\n",
       "      <th></th>\n",
       "      <th></th>\n",
       "      <th></th>\n",
       "      <th></th>\n",
       "      <th></th>\n",
       "      <th></th>\n",
       "    </tr>\n",
       "  </thead>\n",
       "  <tbody>\n",
       "    <tr>\n",
       "      <th>&lt;=50K</th>\n",
       "      <td>7275</td>\n",
       "      <td>7449</td>\n",
       "      <td>944</td>\n",
       "      <td>5001</td>\n",
       "      <td>3228</td>\n",
       "      <td>823</td>\n",
       "    </tr>\n",
       "    <tr>\n",
       "      <th>&gt;50K</th>\n",
       "      <td>5918</td>\n",
       "      <td>856</td>\n",
       "      <td>37</td>\n",
       "      <td>67</td>\n",
       "      <td>218</td>\n",
       "      <td>745</td>\n",
       "    </tr>\n",
       "  </tbody>\n",
       "</table>\n",
       "</div>"
      ],
      "text/plain": [
       "relationship    Husband   Not-in-family   Other-relative   Own-child  \\\n",
       "annual-income                                                          \n",
       " <=50K             7275            7449              944        5001   \n",
       " >50K              5918             856               37          67   \n",
       "\n",
       "relationship    Unmarried   Wife  \n",
       "annual-income                     \n",
       " <=50K               3228    823  \n",
       " >50K                 218    745  "
      ]
     },
     "execution_count": 15,
     "metadata": {},
     "output_type": "execute_result"
    }
   ],
   "source": [
    "pd.crosstab(df.relationship, df['annual-income']).T"
   ]
  },
  {
   "cell_type": "code",
   "execution_count": 16,
   "id": "hired-planner",
   "metadata": {},
   "outputs": [
    {
     "data": {
      "image/png": "[encoded data removed]",
      "text/plain": [
       "<Figure size 432x288 with 1 Axes>"
      ]
     },
     "metadata": {
      "needs_background": "light"
     },
     "output_type": "display_data"
    }
   ],
   "source": [
    "pd.crosstab(df.relationship, df['annual-income']).T.plot.bar();"
   ]
  },
  {
   "cell_type": "markdown",
   "id": "loving-twist",
   "metadata": {},
   "source": [
    "## Modelling"
   ]
  },
  {
   "cell_type": "code",
   "execution_count": 17,
   "id": "ahead-estimate",
   "metadata": {},
   "outputs": [],
   "source": [
    "# splitting data into train and test\n",
    "np.random.seed(10)\n",
    "\n",
    "X = df.drop('annual-income', axis = 1)\n",
    "y = df['annual-income']\n",
    "\n",
    "X_train, X_test, y_train, y_test = train_test_split(X, y, test_size = .15)"
   ]
  },
  {
   "cell_type": "markdown",
   "id": "comfortable-shadow",
   "metadata": {},
   "source": [
    "We're going to try 3 different models:\n",
    "\n",
    "- K Nearest Neighbors\n",
    "- Random Forest Classifier\n",
    "- linear SVC"
   ]
  },
  {
   "cell_type": "markdown",
   "id": "popular-apollo",
   "metadata": {},
   "source": [
    "### Creating a baseline\n",
    "\n",
    "We'll create a baseline for our models based on the basic `score` function that they have"
   ]
  },
  {
   "cell_type": "code",
   "execution_count": 18,
   "id": "rural-attention",
   "metadata": {},
   "outputs": [],
   "source": [
    "def create_baseline(models, X_train, X_test, y_train, y_test):\n",
    "    \"\"\"\n",
    "    fit and evalute machine learning models, returns a dict containing\n",
    "    the baseline of their predictions.\n",
    "    Models: dict with machine learning models in it\n",
    "    X_train: train data (no labels)\n",
    "    X_test: test data (no labels)\n",
    "    y_train: training labels\n",
    "    y_test: test labels\n",
    "    \"\"\"\n",
    "    # set up random seed\n",
    "    np.random.seed(10)\n",
    "    # make dict to store models\n",
    "    baselines = {}\n",
    "    # iterate the models dict\n",
    "    for name, model in models.items():\n",
    "        # fit the model\n",
    "        print(f'Fitting {name}...')\n",
    "        model.fit(X_train, y_train)\n",
    "        print(f'{name} has been fitted!')\n",
    "        # store and evalute the model\n",
    "        print(f'Evaluating {name}...')\n",
    "        baselines[name] = model.score(X_test, y_test)\n",
    "        print(f'{name} has been evaluated! \\nIt scored {baselines[name]*100:.2f}%')\n",
    "        print('-' * 20)\n",
    "    # return the dict containing the baselines\n",
    "    return baselines"
   ]
  },
  {
   "cell_type": "markdown",
   "id": "meaning-sitting",
   "metadata": {},
   "source": [
    "before using our function we have to one-hot encode some columns, <br>\n",
    "to do so we can create a Pipeline"
   ]
  },
  {
   "cell_type": "code",
   "execution_count": 19,
   "id": "occupied-immune",
   "metadata": {},
   "outputs": [],
   "source": [
    "# creating the pipeline to one-hot encode certain features\n",
    "\n",
    "# storing the column to encode\n",
    "encoding_objects_features = ['workclass', 'education', 'marital-status', 'occupation', 'relationship', \n",
    "                  'race', 'sex', 'native-country']\n",
    "#creating the encoder\n",
    "encoding_objects_transformer = Pipeline(steps = [\n",
    "    ('onehot', OneHotEncoder(handle_unknown = 'ignore'))\n",
    "])\n",
    "# creating the preprocessor\n",
    "preprocessor = ColumnTransformer(transformers = [\n",
    "    ('one_hot_encoding', encoding_objects_transformer, encoding_objects_features)\n",
    "], remainder = 'passthrough', verbose = 0)"
   ]
  },
  {
   "cell_type": "code",
   "execution_count": 20,
   "id": "fallen-terminology",
   "metadata": {},
   "outputs": [],
   "source": [
    "# creating the models\n",
    "# K Nearest Neighbors\n",
    "KNN = Pipeline(steps = [\n",
    "    ('preprocessor', preprocessor),\n",
    "    ('model', KNeighborsClassifier())\n",
    "])\n",
    "# Random Forest Classifier\n",
    "RFC = Pipeline(steps = [\n",
    "    ('preprocessor', preprocessor),\n",
    "    ('model', RandomForestClassifier())\n",
    "])\n",
    "# Linear SVC\n",
    "SVC = Pipeline(steps = [\n",
    "    ('preprocessor', preprocessor),\n",
    "    ('model', LinearSVC())\n",
    "])"
   ]
  },
  {
   "cell_type": "code",
   "execution_count": 21,
   "id": "killing-japan",
   "metadata": {},
   "outputs": [],
   "source": [
    "models = {'K Nearest Neighbors': KNN,\n",
    "          'Random Forest Classifier': RFC,\n",
    "          'Linear SVC': SVC}"
   ]
  },
  {
   "cell_type": "code",
   "execution_count": 22,
   "id": "equivalent-parade",
   "metadata": {},
   "outputs": [
    {
     "name": "stdout",
     "output_type": "stream",
     "text": [
      "Fitting K Nearest Neighbors...\n",
      "K Nearest Neighbors has been fitted!\n",
      "Evaluating K Nearest Neighbors...\n",
      "K Nearest Neighbors has been evaluated! \n",
      "It scored 77.48%\n",
      "--------------------\n",
      "Fitting Random Forest Classifier...\n",
      "Random Forest Classifier has been fitted!\n",
      "Evaluating Random Forest Classifier...\n",
      "Random Forest Classifier has been evaluated! \n",
      "It scored 84.40%\n",
      "--------------------\n",
      "Fitting Linear SVC...\n",
      "Linear SVC has been fitted!\n",
      "Evaluating Linear SVC...\n",
      "Linear SVC has been evaluated! \n",
      "It scored 78.01%\n",
      "--------------------\n"
     ]
    },
    {
     "data": {
      "text/plain": [
       "{'K Nearest Neighbors': 0.77482088024565,\n",
       " 'Random Forest Classifier': 0.8440122824974411,\n",
       " 'Linear SVC': 0.7801432958034801}"
      ]
     },
     "execution_count": 22,
     "metadata": {},
     "output_type": "execute_result"
    }
   ],
   "source": [
    "baselines = create_baseline(models, X_train, X_test, y_train, y_test)\n",
    "baselines"
   ]
  },
  {
   "cell_type": "code",
   "execution_count": 23,
   "id": "greater-facial",
   "metadata": {},
   "outputs": [
    {
     "data": {
      "image/png": "[encoded data removed]",
      "text/plain": [
       "<Figure size 432x288 with 1 Axes>"
      ]
     },
     "metadata": {
      "needs_background": "light"
     },
     "output_type": "display_data"
    }
   ],
   "source": [
    "baseline_df = pd.DataFrame(baselines, index = ['accuracy'])\n",
    "baseline_df.T.plot.bar();"
   ]
  },
  {
   "cell_type": "markdown",
   "id": "innovative-italian",
   "metadata": {},
   "source": [
    "## Hyperparameter tuning"
   ]
  },
  {
   "cell_type": "markdown",
   "id": "reserved-northeast",
   "metadata": {},
   "source": [
    "### Tuning K Nearest Neighbors\n",
    "\n",
    "Hyperparameters we'll tune:\n",
    "* `n_neighbors`\n",
    "* `weights`"
   ]
  },
  {
   "cell_type": "code",
   "execution_count": 24,
   "id": "dedicated-detail",
   "metadata": {},
   "outputs": [],
   "source": [
    "# setting the grid\n",
    "knn_grid = {'model__n_neighbors': np.arange(1, 30),\n",
    "            'model__weights': ['uniform', 'distance']}"
   ]
  },
  {
   "cell_type": "code",
   "execution_count": 25,
   "id": "pursuant-asset",
   "metadata": {},
   "outputs": [],
   "source": [
    "# setting up the random search for best hyperparameters\n",
    "rs_knn = RandomizedSearchCV(estimator = KNN,\n",
    "                            param_distributions = knn_grid,\n",
    "                            cv = 5,\n",
    "                            n_iter = 5,\n",
    "                            verbose = True)"
   ]
  },
  {
   "cell_type": "code",
   "execution_count": 26,
   "id": "focused-watch",
   "metadata": {},
   "outputs": [
    {
     "name": "stdout",
     "output_type": "stream",
     "text": [
      "Fitting 5 folds for each of 5 candidates, totalling 25 fits\n"
     ]
    },
    {
     "data": {
      "text/plain": [
       "RandomizedSearchCV(cv=5,\n",
       "                   estimator=Pipeline(steps=[('preprocessor',\n",
       "                                              ColumnTransformer(remainder='passthrough',\n",
       "                                                                transformers=[('one_hot_encoding',\n",
       "                                                                               Pipeline(steps=[('onehot',\n",
       "                                                                                                OneHotEncoder(handle_unknown='ignore'))]),\n",
       "                                                                               ['workclass',\n",
       "                                                                                'education',\n",
       "                                                                                'marital-status',\n",
       "                                                                                'occupation',\n",
       "                                                                                'relationship',\n",
       "                                                                                'race',\n",
       "                                                                                'sex',\n",
       "                                                                                'native-country'])],\n",
       "                                                                verbose=0)),\n",
       "                                             ('model',\n",
       "                                              KNeighborsClassifier())]),\n",
       "                   n_iter=5,\n",
       "                   param_distributions={'model__n_neighbors': array([ 1,  2,  3,  4,  5,  6,  7,  8,  9, 10, 11, 12, 13, 14, 15, 16, 17,\n",
       "       18, 19, 20, 21, 22, 23, 24, 25, 26, 27, 28, 29]),\n",
       "                                        'model__weights': ['uniform',\n",
       "                                                           'distance']},\n",
       "                   verbose=True)"
      ]
     },
     "execution_count": 26,
     "metadata": {},
     "output_type": "execute_result"
    }
   ],
   "source": [
    "# fitting random hyperparameters search\n",
    "rs_knn.fit(X_train, y_train)"
   ]
  },
  {
   "cell_type": "code",
   "execution_count": 27,
   "id": "afraid-package",
   "metadata": {},
   "outputs": [
    {
     "data": {
      "text/plain": [
       "{'model__weights': 'uniform', 'model__n_neighbors': 18}"
      ]
     },
     "execution_count": 27,
     "metadata": {},
     "output_type": "execute_result"
    }
   ],
   "source": [
    "# check best hyperparameters\n",
    "rs_knn.best_params_"
   ]
  },
  {
   "cell_type": "code",
   "execution_count": 28,
   "id": "varied-michigan",
   "metadata": {},
   "outputs": [
    {
     "data": {
      "text/plain": [
       "0.7930399181166837"
      ]
     },
     "execution_count": 28,
     "metadata": {},
     "output_type": "execute_result"
    }
   ],
   "source": [
    "# evalute model\n",
    "rs_knn.score(X_test, y_test)"
   ]
  },
  {
   "cell_type": "markdown",
   "id": "frequent-visit",
   "metadata": {},
   "source": [
    "### Tuning LinearSVC\n",
    "\n",
    "Hyperparameters we'll tune:\n",
    "* `C`\n",
    "* `max_iter`"
   ]
  },
  {
   "cell_type": "code",
   "execution_count": 29,
   "id": "answering-antigua",
   "metadata": {},
   "outputs": [],
   "source": [
    "SVC_grid = {'model__C': np.arange(1, 100, 9),\n",
    "            'model__max_iter': np.arange(2000, 5000, 1000)}"
   ]
  },
  {
   "cell_type": "code",
   "execution_count": 30,
   "id": "sealed-modem",
   "metadata": {},
   "outputs": [
    {
     "data": {
      "text/plain": [
       "array([2000, 3000, 4000])"
      ]
     },
     "execution_count": 30,
     "metadata": {},
     "output_type": "execute_result"
    }
   ],
   "source": [
    "SVC_grid['model__max_iter']"
   ]
  },
  {
   "cell_type": "code",
   "execution_count": 31,
   "id": "communist-balance",
   "metadata": {},
   "outputs": [],
   "source": [
    "# setting up the random search for best hyperparameters\n",
    "rs_SVC = RandomizedSearchCV(estimator = SVC,\n",
    "                            param_distributions = SVC_grid,\n",
    "                            cv = 5,\n",
    "                            n_iter = 5,\n",
    "                            verbose = True)"
   ]
  },
  {
   "cell_type": "code",
   "execution_count": 32,
   "id": "official-contractor",
   "metadata": {},
   "outputs": [
    {
     "name": "stdout",
     "output_type": "stream",
     "text": [
      "Fitting 5 folds for each of 5 candidates, totalling 25 fits\n"
     ]
    },
    {
     "data": {
      "text/plain": [
       "RandomizedSearchCV(cv=5,\n",
       "                   estimator=Pipeline(steps=[('preprocessor',\n",
       "                                              ColumnTransformer(remainder='passthrough',\n",
       "                                                                transformers=[('one_hot_encoding',\n",
       "                                                                               Pipeline(steps=[('onehot',\n",
       "                                                                                                OneHotEncoder(handle_unknown='ignore'))]),\n",
       "                                                                               ['workclass',\n",
       "                                                                                'education',\n",
       "                                                                                'marital-status',\n",
       "                                                                                'occupation',\n",
       "                                                                                'relationship',\n",
       "                                                                                'race',\n",
       "                                                                                'sex',\n",
       "                                                                                'native-country'])],\n",
       "                                                                verbose=0)),\n",
       "                                             ('model', LinearSVC())]),\n",
       "                   n_iter=5,\n",
       "                   param_distributions={'model__C': array([ 1, 10, 19, 28, 37, 46, 55, 64, 73, 82, 91]),\n",
       "                                        'model__max_iter': array([2000, 3000, 4000])},\n",
       "                   verbose=True)"
      ]
     },
     "execution_count": 32,
     "metadata": {},
     "output_type": "execute_result"
    }
   ],
   "source": [
    "rs_SVC.fit(X_train, y_train)"
   ]
  },
  {
   "cell_type": "code",
   "execution_count": 33,
   "id": "exterior-television",
   "metadata": {},
   "outputs": [
    {
     "data": {
      "text/plain": [
       "{'model__max_iter': 3000, 'model__C': 10}"
      ]
     },
     "execution_count": 33,
     "metadata": {},
     "output_type": "execute_result"
    }
   ],
   "source": [
    "rs_SVC.best_params_"
   ]
  },
  {
   "cell_type": "code",
   "execution_count": 34,
   "id": "pretty-saskatchewan",
   "metadata": {},
   "outputs": [
    {
     "data": {
      "text/plain": [
       "0.7694984646878199"
      ]
     },
     "execution_count": 34,
     "metadata": {},
     "output_type": "execute_result"
    }
   ],
   "source": [
    "rs_SVC.score(X_test, y_test)"
   ]
  },
  {
   "cell_type": "markdown",
   "id": "portable-nickel",
   "metadata": {},
   "source": [
    "The linearSVC model offered a worse performance than the baseline, we'll drop it"
   ]
  },
  {
   "cell_type": "markdown",
   "id": "seasonal-transparency",
   "metadata": {},
   "source": [
    "### Tuning Random Forest Classifier"
   ]
  },
  {
   "cell_type": "code",
   "execution_count": 35,
   "id": "attractive-stability",
   "metadata": {},
   "outputs": [],
   "source": [
    "RFC_grid = {'model__n_estimators': [5, 10, 50, 100, 250],\n",
    "            'model__max_depth': [2, 4, 8, 16, 32, None]}"
   ]
  },
  {
   "cell_type": "code",
   "execution_count": 36,
   "id": "handed-breed",
   "metadata": {},
   "outputs": [],
   "source": [
    "rs_RFC = RandomizedSearchCV(estimator = RFC,\n",
    "                            param_distributions = RFC_grid,\n",
    "                            cv = 5,\n",
    "                            n_iter = 5,\n",
    "                            verbose = True)"
   ]
  },
  {
   "cell_type": "code",
   "execution_count": 37,
   "id": "emerging-singer",
   "metadata": {},
   "outputs": [
    {
     "name": "stdout",
     "output_type": "stream",
     "text": [
      "Fitting 5 folds for each of 5 candidates, totalling 25 fits\n"
     ]
    },
    {
     "data": {
      "text/plain": [
       "RandomizedSearchCV(cv=5,\n",
       "                   estimator=Pipeline(steps=[('preprocessor',\n",
       "                                              ColumnTransformer(remainder='passthrough',\n",
       "                                                                transformers=[('one_hot_encoding',\n",
       "                                                                               Pipeline(steps=[('onehot',\n",
       "                                                                                                OneHotEncoder(handle_unknown='ignore'))]),\n",
       "                                                                               ['workclass',\n",
       "                                                                                'education',\n",
       "                                                                                'marital-status',\n",
       "                                                                                'occupation',\n",
       "                                                                                'relationship',\n",
       "                                                                                'race',\n",
       "                                                                                'sex',\n",
       "                                                                                'native-country'])],\n",
       "                                                                verbose=0)),\n",
       "                                             ('model',\n",
       "                                              RandomForestClassifier())]),\n",
       "                   n_iter=5,\n",
       "                   param_distributions={'model__max_depth': [2, 4, 8, 16, 32,\n",
       "                                                             None],\n",
       "                                        'model__n_estimators': [5, 10, 50, 100,\n",
       "                                                                250]},\n",
       "                   verbose=True)"
      ]
     },
     "execution_count": 37,
     "metadata": {},
     "output_type": "execute_result"
    }
   ],
   "source": [
    "rs_RFC.fit(X_train, y_train)"
   ]
  },
  {
   "cell_type": "code",
   "execution_count": 38,
   "id": "cosmetic-bradford",
   "metadata": {},
   "outputs": [
    {
     "data": {
      "text/plain": [
       "0.851381780962129"
      ]
     },
     "execution_count": 38,
     "metadata": {},
     "output_type": "execute_result"
    }
   ],
   "source": [
    "rs_RFC.score(X_test, y_test)"
   ]
  },
  {
   "cell_type": "code",
   "execution_count": 39,
   "id": "relative-onion",
   "metadata": {},
   "outputs": [
    {
     "data": {
      "text/plain": [
       "{'K Nearest Neighbors': 0.77482088024565,\n",
       " 'Random Forest Classifier': 0.8440122824974411,\n",
       " 'Linear SVC': 0.7801432958034801}"
      ]
     },
     "execution_count": 39,
     "metadata": {},
     "output_type": "execute_result"
    }
   ],
   "source": [
    "baselines"
   ]
  },
  {
   "cell_type": "code",
   "execution_count": 40,
   "id": "amazing-bosnia",
   "metadata": {},
   "outputs": [
    {
     "data": {
      "text/plain": [
       "{'model__n_estimators': 100, 'model__max_depth': 16}"
      ]
     },
     "execution_count": 40,
     "metadata": {},
     "output_type": "execute_result"
    }
   ],
   "source": [
    "rs_RFC.best_params_"
   ]
  },
  {
   "cell_type": "markdown",
   "id": "signed-contractor",
   "metadata": {},
   "source": [
    "Of all of them, `RandomForestClassifier` has been the best so we'll focus on it"
   ]
  },
  {
   "cell_type": "markdown",
   "id": "harmful-worst",
   "metadata": {},
   "source": [
    "## Model evaluation\n",
    "\n",
    "Metrics:\n",
    "\n",
    "* confusion matrix\n",
    "* precision score\n",
    "* f1 score\n",
    "* classification report\n",
    "* recall score\n",
    "* plot roc curve"
   ]
  },
  {
   "cell_type": "code",
   "execution_count": 41,
   "id": "characteristic-western",
   "metadata": {},
   "outputs": [],
   "source": [
    "# making preds\n",
    "y_preds = rs_RFC.predict(X_test)"
   ]
  },
  {
   "cell_type": "markdown",
   "id": "reasonable-bibliography",
   "metadata": {},
   "source": [
    "### ROC curve"
   ]
  },
  {
   "cell_type": "code",
   "execution_count": 42,
   "id": "endless-stuff",
   "metadata": {},
   "outputs": [
    {
     "data": {
      "image/png": "[encoded data removed]",
      "text/plain": [
       "<Figure size 432x288 with 1 Axes>"
      ]
     },
     "metadata": {
      "needs_background": "light"
     },
     "output_type": "display_data"
    }
   ],
   "source": [
    "plot_roc_curve(rs_RFC, X_test, y_test);"
   ]
  },
  {
   "cell_type": "markdown",
   "id": "filled-background",
   "metadata": {},
   "source": [
    "### Confusion matrix"
   ]
  },
  {
   "cell_type": "code",
   "execution_count": 43,
   "id": "representative-steps",
   "metadata": {},
   "outputs": [
    {
     "data": {
      "image/png": "[encoded data removed]",
      "text/plain": [
       "<Figure size 288x288 with 1 Axes>"
      ]
     },
     "metadata": {
      "needs_background": "light"
     },
     "output_type": "display_data"
    }
   ],
   "source": [
    "fig, ax = plt.subplots(figsize = (4,4))\n",
    "ax = sns.heatmap(confusion_matrix(y_preds, y_test),\n",
    "                 annot = True,\n",
    "                 cbar = False,\n",
    "                 fmt = '.2f')\n",
    "plt.xlabel('True label')\n",
    "plt.ylabel('Predicted label');"
   ]
  },
  {
   "cell_type": "code",
   "execution_count": 44,
   "id": "close-nebraska",
   "metadata": {},
   "outputs": [
    {
     "name": "stdout",
     "output_type": "stream",
     "text": [
      "              precision    recall  f1-score   support\n",
      "\n",
      "       <=50K       0.87      0.95      0.91      3689\n",
      "        >50K       0.78      0.55      0.64      1196\n",
      "\n",
      "    accuracy                           0.85      4885\n",
      "   macro avg       0.82      0.75      0.78      4885\n",
      "weighted avg       0.85      0.85      0.84      4885\n",
      "\n"
     ]
    }
   ],
   "source": [
    "print(classification_report(y_test, y_preds))"
   ]
  },
  {
   "cell_type": "markdown",
   "id": "paperback-turkish",
   "metadata": {},
   "source": [
    "### Using cross-validation\n",
    "\n",
    "We want to cross validate result with the following scores:\n",
    "* Accuracy\n",
    "* Precision\n",
    "* Recall\n",
    "* F1\n",
    "\n",
    "Before doing so we have to binarize our data, but strangely enough `LabelBinarize()` doesn't work in this case (at least on my machine), to use our data we have to first binarize it in a more manual way"
   ]
  },
  {
   "cell_type": "code",
   "execution_count": 45,
   "id": "geographic-weapon",
   "metadata": {},
   "outputs": [
    {
     "data": {
      "text/plain": [
       "{'model__n_estimators': 100, 'model__max_depth': 16}"
      ]
     },
     "execution_count": 45,
     "metadata": {},
     "output_type": "execute_result"
    }
   ],
   "source": [
    "rs_RFC.best_params_"
   ]
  },
  {
   "cell_type": "code",
   "execution_count": 46,
   "id": "norwegian-license",
   "metadata": {},
   "outputs": [],
   "source": [
    "clf = Pipeline(steps = [\n",
    "    ('preprocessor', preprocessor),\n",
    "    ('model', RandomForestClassifier(n_estimators = 250,\n",
    "                                     max_depth = 16))\n",
    "]) "
   ]
  },
  {
   "cell_type": "code",
   "execution_count": 47,
   "id": "first-faculty",
   "metadata": {},
   "outputs": [],
   "source": [
    "# Binaryzing our data\n",
    "\n",
    "# create y series full of zeros\n",
    "binary_y = np.zeros((len(df['annual-income'])))\n",
    "\n",
    "# because this is a binary classification model\n",
    "# we can just change 0 to 1 if the value is positive\n",
    "# iterate through the array\n",
    "for i in range(len(df['annual-income'])):\n",
    "    if df['annual-income'][i] == ' >50K':\n",
    "        binary_y[i] = 1\n",
    "\n",
    "# serialize the array\n",
    "binary_y = pd.Series(binary_y)"
   ]
  },
  {
   "cell_type": "markdown",
   "id": "extreme-match",
   "metadata": {},
   "source": [
    "We are just creating another Series that mimic the `annual-income` column, but this was the only solution I finded"
   ]
  },
  {
   "cell_type": "code",
   "execution_count": 48,
   "id": "tropical-interim",
   "metadata": {},
   "outputs": [],
   "source": [
    "def cross_val_scores (scores_list, model, X, y, cross_val = 5):\n",
    "    \"\"\"\n",
    "    cross validate different scores and return a dict \n",
    "    with their values\n",
    "    - scores_list: an arrya containing the names of the scores.\n",
    "    ex. ['accuracy', 'precision']\n",
    "    - model: machine learning model to use\n",
    "    - X: the X labeled data\n",
    "    - Y: the target data to predict\n",
    "    - cv: cross-validation score, set by default on 5\n",
    "    \"\"\"\n",
    "    # create dict to return\n",
    "    cross_validated_scores = dict()\n",
    "    # loop through the scores_list\n",
    "    for score_name in scores_list:\n",
    "        print(f'scoring {score_name}...')\n",
    "        # put mean of the cv scores in a var\n",
    "        mean_cv_value = np.mean(cross_val_score(model, X, y, \n",
    "                        cv = cross_val, \n",
    "                        scoring = score_name))\n",
    "        print(f'{score_name} has scored {mean_cv_value * 100:.2f}%')       \n",
    "        cross_validated_scores[score_name + ' score'] = mean_cv_value\n",
    "    return cross_validated_scores"
   ]
  },
  {
   "cell_type": "code",
   "execution_count": 49,
   "id": "charged-tractor",
   "metadata": {
    "scrolled": true
   },
   "outputs": [
    {
     "name": "stdout",
     "output_type": "stream",
     "text": [
      "scoring accuracy...\n",
      "accuracy has scored 86.16%\n",
      "scoring precision...\n",
      "precision has scored 79.07%\n",
      "scoring recall...\n",
      "recall has scored 57.89%\n",
      "scoring f1...\n",
      "f1 has scored 66.70%\n"
     ]
    }
   ],
   "source": [
    "cross_validate_metrics = cross_val_scores(['accuracy', 'precision', 'recall', 'f1'], \n",
    "                                          clf, \n",
    "                                          X, \n",
    "                                          binary_y, \n",
    "                                          cross_val = 5)"
   ]
  },
  {
   "cell_type": "markdown",
   "id": "intermediate-metallic",
   "metadata": {},
   "source": [
    "### Cross-validated metrics visualized"
   ]
  },
  {
   "cell_type": "code",
   "execution_count": 50,
   "id": "guided-necessity",
   "metadata": {},
   "outputs": [],
   "source": [
    "metrics_df = pd.DataFrame(cross_validate_metrics, index = [0])"
   ]
  },
  {
   "cell_type": "code",
   "execution_count": 51,
   "id": "nearby-audience",
   "metadata": {},
   "outputs": [
    {
     "data": {
      "image/png": "[encoded data removed]",
      "text/plain": [
       "<Figure size 432x288 with 1 Axes>"
      ]
     },
     "metadata": {
      "needs_background": "light"
     },
     "output_type": "display_data"
    }
   ],
   "source": [
    "metrics_df.T.plot.bar(legend = False,\n",
    "                      title = 'cross-validated metrics');"
   ]
  },
  {
   "cell_type": "markdown",
   "id": "funny-teens",
   "metadata": {},
   "source": [
    "## Feature importance"
   ]
  },
  {
   "cell_type": "code",
   "execution_count": 52,
   "id": "above-smile",
   "metadata": {},
   "outputs": [
    {
     "data": {
      "text/plain": [
       "Pipeline(steps=[('preprocessor',\n",
       "                 ColumnTransformer(remainder='passthrough',\n",
       "                                   transformers=[('one_hot_encoding',\n",
       "                                                  Pipeline(steps=[('onehot',\n",
       "                                                                   OneHotEncoder(handle_unknown='ignore'))]),\n",
       "                                                  ['workclass', 'education',\n",
       "                                                   'marital-status',\n",
       "                                                   'occupation', 'relationship',\n",
       "                                                   'race', 'sex',\n",
       "                                                   'native-country'])],\n",
       "                                   verbose=0)),\n",
       "                ('model',\n",
       "                 RandomForestClassifier(max_depth=16, n_estimators=250))])"
      ]
     },
     "execution_count": 52,
     "metadata": {},
     "output_type": "execute_result"
    }
   ],
   "source": [
    "clf.fit(X_train, y_train)"
   ]
  },
  {
   "cell_type": "code",
   "execution_count": 53,
   "id": "inner-requirement",
   "metadata": {},
   "outputs": [],
   "source": [
    "features_importance = clf['model'].feature_importances_"
   ]
  },
  {
   "cell_type": "code",
   "execution_count": 54,
   "id": "above-lloyd",
   "metadata": {},
   "outputs": [
    {
     "data": {
      "text/plain": [
       "{'age': 0.0020737278436254655,\n",
       " 'workclass': 0.004584627234455506,\n",
       " 'fnlwgt': 0.0030368662320578842,\n",
       " 'education': 1.5648696166818259e-06,\n",
       " 'education-num': 0.005911959863011839,\n",
       " 'marital-status': 0.005886172520227823,\n",
       " 'occupation': 0.007122797818630074,\n",
       " 'relationship': 0.0025807701826285473,\n",
       " 'race': 2.2226010813990908e-05,\n",
       " 'sex': 0.0011937123607251984,\n",
       " 'capital-gain': 0.0020829884777472845,\n",
       " 'capital-loss': 0.00046546428208903964,\n",
       " 'hours-per-week': 0.00030652036175416277,\n",
       " 'native-country': 0.0008177653994285121,\n",
       " 'annual-income': 0.0031286044552700657}"
      ]
     },
     "execution_count": 54,
     "metadata": {},
     "output_type": "execute_result"
    }
   ],
   "source": [
    "features_dict = dict(zip(df.columns, list(features_importance)))\n",
    "features_dict"
   ]
  },
  {
   "cell_type": "code",
   "execution_count": 55,
   "id": "objective-poetry",
   "metadata": {},
   "outputs": [
    {
     "data": {
      "image/png": "[encoded data removed]",
      "text/plain": [
       "<Figure size 432x288 with 1 Axes>"
      ]
     },
     "metadata": {
      "needs_background": "light"
     },
     "output_type": "display_data"
    }
   ],
   "source": [
    "features_df = pd.DataFrame(features_dict, index = [0])\n",
    "features_df.T.plot.bar(legend = False,\n",
    "                       title = 'Feature importance');"
   ]
  },
  {
   "cell_type": "markdown",
   "id": "endangered-dancing",
   "metadata": {},
   "source": [
    "## Conclusion\n",
    "\n",
    "The project has not reached the target, but we discovered useful information in the process"
   ]
  }
 ],
 "metadata": {
  "kernelspec": {
   "display_name": "Python 3",
   "language": "python",
   "name": "python3"
  },
  "language_info": {
   "codemirror_mode": {
    "name": "ipython",
    "version": 3
   },
   "file_extension": ".py",
   "mimetype": "text/x-python",
   "name": "python",
   "nbconvert_exporter": "python",
   "pygments_lexer": "ipython3",
   "version": "3.9.2"
  }
 },
 "nbformat": 4,
 "nbformat_minor": 5
}
